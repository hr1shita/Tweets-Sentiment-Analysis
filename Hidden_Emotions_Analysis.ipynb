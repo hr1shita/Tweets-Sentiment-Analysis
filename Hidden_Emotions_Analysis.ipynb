{
 "cells": [
  {
   "cell_type": "markdown",
   "metadata": {},
   "source": [
    "# About"
   ]
  },
  {
   "cell_type": "markdown",
   "metadata": {},
   "source": [
    "This project is based on the dataset available at https://www.kaggle.com/ashkhagan/smile-twitter-emotion-dataset?select=smile-annotations-final.csv which is composed of about 3k tweets."
   ]
  },
  {
   "cell_type": "markdown",
   "metadata": {},
   "source": [
    "# Importing Req. Libraries"
   ]
  },
  {
   "cell_type": "code",
   "execution_count": 1,
   "metadata": {},
   "outputs": [
    {
     "name": "stderr",
     "output_type": "stream",
     "text": [
      "C:\\Users\\Hrishita\\anaconda3\\lib\\site-packages\\gensim\\similarities\\__init__.py:15: UserWarning: The gensim.similarities.levenshtein submodule is disabled, because the optional Levenshtein package <https://pypi.org/project/python-Levenshtein/> is unavailable. Install Levenhstein (e.g. `pip install python-Levenshtein`) to suppress this warning.\n",
      "  warnings.warn(msg)\n"
     ]
    },
    {
     "name": "stdout",
     "output_type": "stream",
     "text": [
      "Importing Done\n"
     ]
    }
   ],
   "source": [
    "import re\n",
    "import matplotlib.pyplot as plt\n",
    "import string\n",
    "from nltk.corpus import stopwords\n",
    "import nltk\n",
    "from nltk.corpus import wordnet\n",
    "from nltk.stem import WordNetLemmatizer\n",
    "from nltk.tokenize.treebank import TreebankWordDetokenizer\n",
    "from collections import Counter\n",
    "from wordcloud import WordCloud\n",
    "from nltk.corpus import stopwords\n",
    "import nltk\n",
    "import gensim\n",
    "from gensim.utils import simple_preprocess\n",
    "from nltk.corpus import stopwords\n",
    "from sklearn.model_selection import train_test_split\n",
    "import spacy\n",
    "import pickle\n",
    "import warnings\n",
    "warnings.filterwarnings('ignore')\n",
    "import seaborn as sns\n",
    "from sklearn.metrics import confusion_matrix\n",
    "import matplotlib.pyplot as plt \n",
    "import tensorflow as tf\n",
    "import keras\n",
    "import numpy as np\n",
    "import pandas as pd\n",
    "print('Importing Done')"
   ]
  },
  {
   "cell_type": "markdown",
   "metadata": {},
   "source": [
    "# Data Importing "
   ]
  },
  {
   "cell_type": "code",
   "execution_count": 19,
   "metadata": {},
   "outputs": [
    {
     "data": {
      "text/html": [
       "<div>\n",
       "<style scoped>\n",
       "    .dataframe tbody tr th:only-of-type {\n",
       "        vertical-align: middle;\n",
       "    }\n",
       "\n",
       "    .dataframe tbody tr th {\n",
       "        vertical-align: top;\n",
       "    }\n",
       "\n",
       "    .dataframe thead th {\n",
       "        text-align: right;\n",
       "    }\n",
       "</style>\n",
       "<table border=\"1\" class=\"dataframe\">\n",
       "  <thead>\n",
       "    <tr style=\"text-align: right;\">\n",
       "      <th></th>\n",
       "      <th>key</th>\n",
       "      <th>tweet</th>\n",
       "      <th>status</th>\n",
       "    </tr>\n",
       "  </thead>\n",
       "  <tbody>\n",
       "    <tr>\n",
       "      <th>0</th>\n",
       "      <td>611857364396965889</td>\n",
       "      <td>@aandraous @britishmuseum @AndrewsAntonio Merc...</td>\n",
       "      <td>nocode</td>\n",
       "    </tr>\n",
       "    <tr>\n",
       "      <th>1</th>\n",
       "      <td>614484565059596288</td>\n",
       "      <td>Dorian Gray with Rainbow Scarf #LoveWins (from...</td>\n",
       "      <td>happy</td>\n",
       "    </tr>\n",
       "    <tr>\n",
       "      <th>2</th>\n",
       "      <td>614746522043973632</td>\n",
       "      <td>@SelectShowcase @Tate_StIves ... Replace with ...</td>\n",
       "      <td>happy</td>\n",
       "    </tr>\n",
       "    <tr>\n",
       "      <th>3</th>\n",
       "      <td>614877582664835073</td>\n",
       "      <td>@Sofabsports thank you for following me back. ...</td>\n",
       "      <td>happy</td>\n",
       "    </tr>\n",
       "    <tr>\n",
       "      <th>4</th>\n",
       "      <td>611932373039644672</td>\n",
       "      <td>@britishmuseum @TudorHistory What a beautiful ...</td>\n",
       "      <td>happy</td>\n",
       "    </tr>\n",
       "    <tr>\n",
       "      <th>...</th>\n",
       "      <td>...</td>\n",
       "      <td>...</td>\n",
       "      <td>...</td>\n",
       "    </tr>\n",
       "    <tr>\n",
       "      <th>3080</th>\n",
       "      <td>613678555935973376</td>\n",
       "      <td>MT @AliHaggett: Looking forward to our public ...</td>\n",
       "      <td>happy</td>\n",
       "    </tr>\n",
       "    <tr>\n",
       "      <th>3081</th>\n",
       "      <td>613294681225621504</td>\n",
       "      <td>@britishmuseum Upper arm guard?</td>\n",
       "      <td>nocode</td>\n",
       "    </tr>\n",
       "    <tr>\n",
       "      <th>3082</th>\n",
       "      <td>615246897670922240</td>\n",
       "      <td>@MrStuchbery @britishmuseum Mesmerising.</td>\n",
       "      <td>happy</td>\n",
       "    </tr>\n",
       "    <tr>\n",
       "      <th>3083</th>\n",
       "      <td>613016084371914753</td>\n",
       "      <td>@NationalGallery The 2nd GENOCIDE against #Bia...</td>\n",
       "      <td>not-relevant</td>\n",
       "    </tr>\n",
       "    <tr>\n",
       "      <th>3084</th>\n",
       "      <td>611566876762640384</td>\n",
       "      <td>@britishmuseum Experience #battlewaterloo from...</td>\n",
       "      <td>nocode</td>\n",
       "    </tr>\n",
       "  </tbody>\n",
       "</table>\n",
       "<p>3085 rows × 3 columns</p>\n",
       "</div>"
      ],
      "text/plain": [
       "                     key                                              tweet  \\\n",
       "0     611857364396965889  @aandraous @britishmuseum @AndrewsAntonio Merc...   \n",
       "1     614484565059596288  Dorian Gray with Rainbow Scarf #LoveWins (from...   \n",
       "2     614746522043973632  @SelectShowcase @Tate_StIves ... Replace with ...   \n",
       "3     614877582664835073  @Sofabsports thank you for following me back. ...   \n",
       "4     611932373039644672  @britishmuseum @TudorHistory What a beautiful ...   \n",
       "...                  ...                                                ...   \n",
       "3080  613678555935973376  MT @AliHaggett: Looking forward to our public ...   \n",
       "3081  613294681225621504                    @britishmuseum Upper arm guard?   \n",
       "3082  615246897670922240           @MrStuchbery @britishmuseum Mesmerising.   \n",
       "3083  613016084371914753  @NationalGallery The 2nd GENOCIDE against #Bia...   \n",
       "3084  611566876762640384  @britishmuseum Experience #battlewaterloo from...   \n",
       "\n",
       "            status  \n",
       "0           nocode  \n",
       "1            happy  \n",
       "2            happy  \n",
       "3            happy  \n",
       "4            happy  \n",
       "...            ...  \n",
       "3080         happy  \n",
       "3081        nocode  \n",
       "3082         happy  \n",
       "3083  not-relevant  \n",
       "3084        nocode  \n",
       "\n",
       "[3085 rows x 3 columns]"
      ]
     },
     "execution_count": 19,
     "metadata": {},
     "output_type": "execute_result"
    }
   ],
   "source": [
    "import pandas as pd\n",
    "tdata = pd.read_csv(\"https://raw.githubusercontent.com/Dataminimgproject/dataminingassignment/main/smileannotationsfinal%20(1).csv\",\n",
    "                   names=[\"key\",\"tweet\",\"status\"])\n",
    "\n",
    "tdata"
   ]
  },
  {
   "cell_type": "markdown",
   "metadata": {},
   "source": [
    "Unwanted column removed"
   ]
  },
  {
   "cell_type": "code",
   "execution_count": 20,
   "metadata": {},
   "outputs": [
    {
     "data": {
      "text/html": [
       "<div>\n",
       "<style scoped>\n",
       "    .dataframe tbody tr th:only-of-type {\n",
       "        vertical-align: middle;\n",
       "    }\n",
       "\n",
       "    .dataframe tbody tr th {\n",
       "        vertical-align: top;\n",
       "    }\n",
       "\n",
       "    .dataframe thead th {\n",
       "        text-align: right;\n",
       "    }\n",
       "</style>\n",
       "<table border=\"1\" class=\"dataframe\">\n",
       "  <thead>\n",
       "    <tr style=\"text-align: right;\">\n",
       "      <th></th>\n",
       "      <th>tweet</th>\n",
       "      <th>status</th>\n",
       "    </tr>\n",
       "  </thead>\n",
       "  <tbody>\n",
       "    <tr>\n",
       "      <th>0</th>\n",
       "      <td>@aandraous @britishmuseum @AndrewsAntonio Merc...</td>\n",
       "      <td>nocode</td>\n",
       "    </tr>\n",
       "    <tr>\n",
       "      <th>1</th>\n",
       "      <td>Dorian Gray with Rainbow Scarf #LoveWins (from...</td>\n",
       "      <td>happy</td>\n",
       "    </tr>\n",
       "    <tr>\n",
       "      <th>2</th>\n",
       "      <td>@SelectShowcase @Tate_StIves ... Replace with ...</td>\n",
       "      <td>happy</td>\n",
       "    </tr>\n",
       "    <tr>\n",
       "      <th>3</th>\n",
       "      <td>@Sofabsports thank you for following me back. ...</td>\n",
       "      <td>happy</td>\n",
       "    </tr>\n",
       "    <tr>\n",
       "      <th>4</th>\n",
       "      <td>@britishmuseum @TudorHistory What a beautiful ...</td>\n",
       "      <td>happy</td>\n",
       "    </tr>\n",
       "    <tr>\n",
       "      <th>...</th>\n",
       "      <td>...</td>\n",
       "      <td>...</td>\n",
       "    </tr>\n",
       "    <tr>\n",
       "      <th>3080</th>\n",
       "      <td>MT @AliHaggett: Looking forward to our public ...</td>\n",
       "      <td>happy</td>\n",
       "    </tr>\n",
       "    <tr>\n",
       "      <th>3081</th>\n",
       "      <td>@britishmuseum Upper arm guard?</td>\n",
       "      <td>nocode</td>\n",
       "    </tr>\n",
       "    <tr>\n",
       "      <th>3082</th>\n",
       "      <td>@MrStuchbery @britishmuseum Mesmerising.</td>\n",
       "      <td>happy</td>\n",
       "    </tr>\n",
       "    <tr>\n",
       "      <th>3083</th>\n",
       "      <td>@NationalGallery The 2nd GENOCIDE against #Bia...</td>\n",
       "      <td>not-relevant</td>\n",
       "    </tr>\n",
       "    <tr>\n",
       "      <th>3084</th>\n",
       "      <td>@britishmuseum Experience #battlewaterloo from...</td>\n",
       "      <td>nocode</td>\n",
       "    </tr>\n",
       "  </tbody>\n",
       "</table>\n",
       "<p>3085 rows × 2 columns</p>\n",
       "</div>"
      ],
      "text/plain": [
       "                                                  tweet        status\n",
       "0     @aandraous @britishmuseum @AndrewsAntonio Merc...        nocode\n",
       "1     Dorian Gray with Rainbow Scarf #LoveWins (from...         happy\n",
       "2     @SelectShowcase @Tate_StIves ... Replace with ...         happy\n",
       "3     @Sofabsports thank you for following me back. ...         happy\n",
       "4     @britishmuseum @TudorHistory What a beautiful ...         happy\n",
       "...                                                 ...           ...\n",
       "3080  MT @AliHaggett: Looking forward to our public ...         happy\n",
       "3081                    @britishmuseum Upper arm guard?        nocode\n",
       "3082           @MrStuchbery @britishmuseum Mesmerising.         happy\n",
       "3083  @NationalGallery The 2nd GENOCIDE against #Bia...  not-relevant\n",
       "3084  @britishmuseum Experience #battlewaterloo from...        nocode\n",
       "\n",
       "[3085 rows x 2 columns]"
      ]
     },
     "execution_count": 20,
     "metadata": {},
     "output_type": "execute_result"
    }
   ],
   "source": [
    "tdata=tdata.iloc[:,1:]\n",
    "tdata"
   ]
  },
  {
   "cell_type": "markdown",
   "metadata": {},
   "source": [
    "Count of each class label"
   ]
  },
  {
   "cell_type": "code",
   "execution_count": 21,
   "metadata": {},
   "outputs": [
    {
     "data": {
      "text/plain": [
       "nocode               1572\n",
       "happy                1137\n",
       "not-relevant          214\n",
       "angry                  57\n",
       "surprise               35\n",
       "sad                    32\n",
       "happy|surprise         11\n",
       "happy|sad               9\n",
       "disgust|angry           7\n",
       "disgust                 6\n",
       "sad|disgust             2\n",
       "sad|angry               2\n",
       "sad|disgust|angry       1\n",
       "Name: status, dtype: int64"
      ]
     },
     "execution_count": 21,
     "metadata": {},
     "output_type": "execute_result"
    }
   ],
   "source": [
    "tdata.status.value_counts()"
   ]
  },
  {
   "cell_type": "markdown",
   "metadata": {},
   "source": [
    "# Data Preprocessing"
   ]
  },
  {
   "cell_type": "markdown",
   "metadata": {},
   "source": [
    "Removing null/irrelevant values"
   ]
  },
  {
   "cell_type": "code",
   "execution_count": 22,
   "metadata": {},
   "outputs": [
    {
     "data": {
      "text/html": [
       "<div>\n",
       "<style scoped>\n",
       "    .dataframe tbody tr th:only-of-type {\n",
       "        vertical-align: middle;\n",
       "    }\n",
       "\n",
       "    .dataframe tbody tr th {\n",
       "        vertical-align: top;\n",
       "    }\n",
       "\n",
       "    .dataframe thead th {\n",
       "        text-align: right;\n",
       "    }\n",
       "</style>\n",
       "<table border=\"1\" class=\"dataframe\">\n",
       "  <thead>\n",
       "    <tr style=\"text-align: right;\">\n",
       "      <th></th>\n",
       "      <th>tweet</th>\n",
       "      <th>status</th>\n",
       "    </tr>\n",
       "  </thead>\n",
       "  <tbody>\n",
       "    <tr>\n",
       "      <th>1</th>\n",
       "      <td>Dorian Gray with Rainbow Scarf #LoveWins (from...</td>\n",
       "      <td>happy</td>\n",
       "    </tr>\n",
       "    <tr>\n",
       "      <th>2</th>\n",
       "      <td>@SelectShowcase @Tate_StIves ... Replace with ...</td>\n",
       "      <td>happy</td>\n",
       "    </tr>\n",
       "    <tr>\n",
       "      <th>3</th>\n",
       "      <td>@Sofabsports thank you for following me back. ...</td>\n",
       "      <td>happy</td>\n",
       "    </tr>\n",
       "    <tr>\n",
       "      <th>4</th>\n",
       "      <td>@britishmuseum @TudorHistory What a beautiful ...</td>\n",
       "      <td>happy</td>\n",
       "    </tr>\n",
       "    <tr>\n",
       "      <th>5</th>\n",
       "      <td>@NationalGallery @ThePoldarkian I have always ...</td>\n",
       "      <td>happy</td>\n",
       "    </tr>\n",
       "    <tr>\n",
       "      <th>...</th>\n",
       "      <td>...</td>\n",
       "      <td>...</td>\n",
       "    </tr>\n",
       "    <tr>\n",
       "      <th>3076</th>\n",
       "      <td>Good to see @liveatlica's art collection @Leed...</td>\n",
       "      <td>happy</td>\n",
       "    </tr>\n",
       "    <tr>\n",
       "      <th>3077</th>\n",
       "      <td>@RAMMuseum thanks, we'll have a look next week...</td>\n",
       "      <td>happy</td>\n",
       "    </tr>\n",
       "    <tr>\n",
       "      <th>3079</th>\n",
       "      <td>“@britishmuseum: Thanks for ranking us #1 in @...</td>\n",
       "      <td>happy</td>\n",
       "    </tr>\n",
       "    <tr>\n",
       "      <th>3080</th>\n",
       "      <td>MT @AliHaggett: Looking forward to our public ...</td>\n",
       "      <td>happy</td>\n",
       "    </tr>\n",
       "    <tr>\n",
       "      <th>3082</th>\n",
       "      <td>@MrStuchbery @britishmuseum Mesmerising.</td>\n",
       "      <td>happy</td>\n",
       "    </tr>\n",
       "  </tbody>\n",
       "</table>\n",
       "<p>1299 rows × 2 columns</p>\n",
       "</div>"
      ],
      "text/plain": [
       "                                                  tweet status\n",
       "1     Dorian Gray with Rainbow Scarf #LoveWins (from...  happy\n",
       "2     @SelectShowcase @Tate_StIves ... Replace with ...  happy\n",
       "3     @Sofabsports thank you for following me back. ...  happy\n",
       "4     @britishmuseum @TudorHistory What a beautiful ...  happy\n",
       "5     @NationalGallery @ThePoldarkian I have always ...  happy\n",
       "...                                                 ...    ...\n",
       "3076  Good to see @liveatlica's art collection @Leed...  happy\n",
       "3077  @RAMMuseum thanks, we'll have a look next week...  happy\n",
       "3079  “@britishmuseum: Thanks for ranking us #1 in @...  happy\n",
       "3080  MT @AliHaggett: Looking forward to our public ...  happy\n",
       "3082           @MrStuchbery @britishmuseum Mesmerising.  happy\n",
       "\n",
       "[1299 rows x 2 columns]"
      ]
     },
     "execution_count": 22,
     "metadata": {},
     "output_type": "execute_result"
    }
   ],
   "source": [
    "tdata.drop(tdata[tdata['status']=='nocode'].index,inplace=True)\n",
    "tdata.drop(tdata[tdata['status']=='not-relevant'].index,inplace=True)\n",
    "tdata"
   ]
  },
  {
   "cell_type": "code",
   "execution_count": 23,
   "metadata": {},
   "outputs": [
    {
     "data": {
      "text/plain": [
       "happy                1137\n",
       "angry                  57\n",
       "surprise               35\n",
       "sad                    32\n",
       "happy|surprise         11\n",
       "happy|sad               9\n",
       "disgust|angry           7\n",
       "disgust                 6\n",
       "sad|disgust             2\n",
       "sad|angry               2\n",
       "sad|disgust|angry       1\n",
       "Name: status, dtype: int64"
      ]
     },
     "execution_count": 23,
     "metadata": {},
     "output_type": "execute_result"
    }
   ],
   "source": [
    "tdata.status.value_counts()"
   ]
  },
  {
   "cell_type": "markdown",
   "metadata": {},
   "source": [
    "# Data Visualisation"
   ]
  },
  {
   "cell_type": "markdown",
   "metadata": {},
   "source": [
    "Visualising count of lables "
   ]
  },
  {
   "cell_type": "code",
   "execution_count": 24,
   "metadata": {},
   "outputs": [
    {
     "data": {
      "text/plain": [
       "<AxesSubplot:ylabel='status'>"
      ]
     },
     "execution_count": 24,
     "metadata": {},
     "output_type": "execute_result"
    },
    {
     "data": {
      "image/png": "[encoded data removed]",
      "text/plain": [
       "<Figure size 432x288 with 1 Axes>"
      ]
     },
     "metadata": {},
     "output_type": "display_data"
    }
   ],
   "source": [
    "import matplotlib.pyplot as plt\n",
    "\n",
    "tdata.status.value_counts().plot(kind='pie',autopct='%1.0f%%')"
   ]
  },
  {
   "cell_type": "markdown",
   "metadata": {},
   "source": [
    "It can be clearly observed that the dataset is biased towards \"happy\" label."
   ]
  },
  {
   "cell_type": "code",
   "execution_count": 25,
   "metadata": {},
   "outputs": [
    {
     "data": {
      "text/plain": [
       "<AxesSubplot:>"
      ]
     },
     "execution_count": 25,
     "metadata": {},
     "output_type": "execute_result"
    },
    {
     "data": {
      "image/png": "[encoded data removed]",
      "text/plain": [
       "<Figure size 432x288 with 1 Axes>"
      ]
     },
     "metadata": {
      "needs_background": "light"
     },
     "output_type": "display_data"
    }
   ],
   "source": [
    "import matplotlib.pyplot as plt\n",
    "\n",
    "tdata.status.value_counts().plot(kind='bar')"
   ]
  },
  {
   "cell_type": "markdown",
   "metadata": {},
   "source": [
    "# Data Cleaning"
   ]
  },
  {
   "cell_type": "markdown",
   "metadata": {},
   "source": [
    "Steps Involved:-\n",
    "Remove URLs from the tweets,\n",
    "Tokenize text,\n",
    "Remove emails,\n",
    "Remove new lines characters,\n",
    "Remove distracting single quotes,\n",
    "Remove all punctuation signs,\n",
    "Lowercase all text,\n",
    "Detokenize text,\n",
    "Convert list of texts to Numpy array."
   ]
  },
  {
   "cell_type": "code",
   "execution_count": 26,
   "metadata": {},
   "outputs": [],
   "source": [
    "def depure_data(data):\n",
    "    \n",
    "    #Removing URLs with a regular expression\n",
    "    url_pattern = re.compile(r'https?://\\S+|www\\.\\S+')\n",
    "    data = url_pattern.sub(r'', data)\n",
    "\n",
    "    # Remove Emails\n",
    "    data = re.sub('\\S*@\\S*\\s?', '', data)\n",
    "\n",
    "    # Remove new line characters\n",
    "    data = re.sub('\\s+', ' ', data)\n",
    "\n",
    "    # Remove distracting single quotes\n",
    "    data = re.sub(\"\\'\", \"\", data)\n",
    "        \n",
    "    return data"
   ]
  },
  {
   "cell_type": "code",
   "execution_count": 27,
   "metadata": {},
   "outputs": [
    {
     "data": {
      "text/plain": [
       "['Dorian Gray with Rainbow Scarf #LoveWins (from ',\n",
       " '... Replace with your wish which the artist uses in next installation! It was entralling!',\n",
       " 'thank you for following me back. Great to hear from a diverse &amp; interesting panel #DefeatingDepression ',\n",
       " 'What a beautiful jewel / portrait. Is the R for Rex ?',\n",
       " 'I have always loved this painting.']"
      ]
     },
     "execution_count": 27,
     "metadata": {},
     "output_type": "execute_result"
    }
   ],
   "source": [
    "temp = []\n",
    "#Splitting pd.Series to list\n",
    "data_to_list = tdata['tweet'].values.tolist()\n",
    "for i in range(len(data_to_list)):\n",
    "    temp.append(depure_data(data_to_list[i]))\n",
    "list(temp[:5])"
   ]
  },
  {
   "cell_type": "code",
   "execution_count": 28,
   "metadata": {},
   "outputs": [
    {
     "name": "stdout",
     "output_type": "stream",
     "text": [
      "[['dorian', 'gray', 'with', 'rainbow', 'scarf', 'lovewins', 'from'], ['replace', 'with', 'your', 'wish', 'which', 'the', 'artist', 'uses', 'in', 'next', 'installation', 'it', 'was', 'entralling'], ['thank', 'you', 'for', 'following', 'me', 'back', 'great', 'to', 'hear', 'from', 'diverse', 'amp', 'interesting', 'panel'], ['what', 'beautiful', 'jewel', 'portrait', 'is', 'the', 'for', 'rex'], ['have', 'always', 'loved', 'this', 'painting'], ['lucky', 'good', 'luck', 'amp', 'see', 'you', 'soon'], ['yr', 'art', 'students', 'are', 'off', 'to', 'the', 'today', 'enjoy'], ['so', 'beautiful'], ['awesome', 'museum'], ['askthegallery', 'why', 'do', 'you', 'pay', 'your', 'brilliant', 'staff', 'so', 'poorly']]\n"
     ]
    }
   ],
   "source": [
    "def sent_to_words(sentences):\n",
    "    for sentence in sentences:\n",
    "        yield(gensim.utils.simple_preprocess(str(sentence), deacc=True))  # deacc=True removes punctuations\n",
    "        \n",
    "\n",
    "data_words = list(sent_to_words(temp))\n",
    "\n",
    "print(data_words[:10])"
   ]
  },
  {
   "cell_type": "code",
   "execution_count": 29,
   "metadata": {},
   "outputs": [
    {
     "data": {
      "text/plain": [
       "1299"
      ]
     },
     "execution_count": 29,
     "metadata": {},
     "output_type": "execute_result"
    }
   ],
   "source": [
    "len(data_words)"
   ]
  },
  {
   "cell_type": "code",
   "execution_count": 30,
   "metadata": {},
   "outputs": [],
   "source": [
    "def detokenize(text):\n",
    "    return TreebankWordDetokenizer().detokenize(text)"
   ]
  },
  {
   "cell_type": "code",
   "execution_count": 31,
   "metadata": {},
   "outputs": [
    {
     "name": "stdout",
     "output_type": "stream",
     "text": [
      "['dorian gray with rainbow scarf lovewins from', 'replace with your wish which the artist uses in next installation it was entralling', 'thank you for following me back great to hear from diverse amp interesting panel', 'what beautiful jewel portrait is the for rex', 'have always loved this painting']\n"
     ]
    }
   ],
   "source": [
    "data = []\n",
    "for i in range(len(data_words)):\n",
    "    data.append(detokenize(data_words[i]))\n",
    "print(data[:5])"
   ]
  },
  {
   "cell_type": "code",
   "execution_count": 32,
   "metadata": {},
   "outputs": [
    {
     "data": {
      "text/plain": [
       "happy                1137\n",
       "angry                  57\n",
       "surprise               35\n",
       "sad                    32\n",
       "happy|surprise         11\n",
       "happy|sad               9\n",
       "disgust|angry           7\n",
       "disgust                 6\n",
       "sad|disgust             2\n",
       "sad|angry               2\n",
       "sad|disgust|angry       1\n",
       "Name: status, dtype: int64"
      ]
     },
     "execution_count": 32,
     "metadata": {},
     "output_type": "execute_result"
    }
   ],
   "source": [
    "tdata.status.value_counts()"
   ]
  },
  {
   "cell_type": "markdown",
   "metadata": {},
   "source": [
    "# Label Encoding "
   ]
  },
  {
   "cell_type": "code",
   "execution_count": 91,
   "metadata": {},
   "outputs": [
    {
     "data": {
      "text/plain": [
       "array(['happy', 'happy', 'happy', ..., 'happy', 'happy', 'happy'],\n",
       "      dtype=object)"
      ]
     },
     "execution_count": 91,
     "metadata": {},
     "output_type": "execute_result"
    }
   ],
   "source": [
    "tdata=tdata.replace('happy|surprise','happy')\n",
    "tdata=tdata.replace('happy|sad','happy')\n",
    "tdata=tdata.replace('sad|disgust','sad')\n",
    "tdata=tdata.replace('sad|disgust|angry','sad')\n",
    "tdata=tdata.replace('sad|angry','sad')\n",
    "tdata=tdata.replace('disgust|angry','disgust')\n",
    "tdata.status.value_counts()\n",
    "status=tdata.iloc[:,1].values\n",
    "status"
   ]
  },
  {
   "cell_type": "code",
   "execution_count": 92,
   "metadata": {},
   "outputs": [
    {
     "data": {
      "text/plain": [
       "happy       1157\n",
       "angry         57\n",
       "sad           44\n",
       "surprise      35\n",
       "disgust        6\n",
       "Name: status, dtype: int64"
      ]
     },
     "execution_count": 92,
     "metadata": {},
     "output_type": "execute_result"
    }
   ],
   "source": [
    "tdata.status.value_counts()"
   ]
  },
  {
   "cell_type": "code",
   "execution_count": 93,
   "metadata": {},
   "outputs": [],
   "source": [
    "data = np.array(data)"
   ]
  },
  {
   "cell_type": "code",
   "execution_count": 94,
   "metadata": {},
   "outputs": [],
   "source": [
    "labels = np.array(tdata['status'])\n",
    "y = []\n",
    "for i in range(len(labels)):\n",
    "    if labels[i] == 'happy':\n",
    "        y.append(0)\n",
    "    if labels[i] == 'angry':\n",
    "        y.append(1)\n",
    "    if labels[i] == 'sad':\n",
    "        y.append(2)\n",
    "    if labels[i] == 'surprise':\n",
    "        y.append(3)\n",
    "    if labels[i] == 'disgust':\n",
    "        y.append(4)\n",
    "y = np.array(y)\n",
    "labels = tf.keras.utils.to_categorical(y, 5, dtype=\"float32\")\n",
    "del y"
   ]
  },
  {
   "cell_type": "code",
   "execution_count": 95,
   "metadata": {},
   "outputs": [
    {
     "data": {
      "text/plain": [
       "1299"
      ]
     },
     "execution_count": 95,
     "metadata": {},
     "output_type": "execute_result"
    }
   ],
   "source": [
    "len(labels)"
   ]
  },
  {
   "cell_type": "markdown",
   "metadata": {},
   "source": [
    "# Data Sequencing and Splitting "
   ]
  },
  {
   "cell_type": "markdown",
   "metadata": {},
   "source": [
    "Implementation of the Keras tokenizer as well as its pad_sequences method to transform text data into 3D float data, otherwise neural networks won't be able to be trained on it."
   ]
  },
  {
   "cell_type": "code",
   "execution_count": 96,
   "metadata": {},
   "outputs": [
    {
     "name": "stdout",
     "output_type": "stream",
     "text": [
      "[[   0    0    0 ... 1239  580   19]\n",
      " [   0    0    0 ...   15   33 1242]\n",
      " [   0    0    0 ...   12  105  382]\n",
      " ...\n",
      " [   0    0    0 ...  131    4   48]\n",
      " [   0    0    0 ... 1029  108  151]\n",
      " [   0    0    0 ...    0    0 3320]]\n"
     ]
    }
   ],
   "source": [
    "from keras.models import Sequential\n",
    "from keras import layers\n",
    "from tensorflow.keras.optimizers import RMSprop,Adam\n",
    "from keras.preprocessing.text import Tokenizer\n",
    "from keras.preprocessing.sequence import pad_sequences\n",
    "from keras import regularizers\n",
    "from keras import backend as K\n",
    "from keras.callbacks import ModelCheckpoint\n",
    "max_words = 5000\n",
    "max_len = 200\n",
    "\n",
    "tokenizer = Tokenizer(num_words=max_words)\n",
    "tokenizer.fit_on_texts(data)\n",
    "sequences = tokenizer.texts_to_sequences(data)\n",
    "tweets = pad_sequences(sequences, maxlen=max_len)\n",
    "print(tweets)"
   ]
  },
  {
   "cell_type": "code",
   "execution_count": 97,
   "metadata": {},
   "outputs": [
    {
     "name": "stdout",
     "output_type": "stream",
     "text": [
      "[[1. 0. 0. 0. 0.]\n",
      " [1. 0. 0. 0. 0.]\n",
      " [1. 0. 0. 0. 0.]\n",
      " ...\n",
      " [1. 0. 0. 0. 0.]\n",
      " [1. 0. 0. 0. 0.]\n",
      " [1. 0. 0. 0. 0.]]\n"
     ]
    }
   ],
   "source": [
    "print(labels)"
   ]
  },
  {
   "cell_type": "code",
   "execution_count": 98,
   "metadata": {},
   "outputs": [
    {
     "name": "stdout",
     "output_type": "stream",
     "text": [
      "974 325 974 325\n"
     ]
    }
   ],
   "source": [
    "#Splitting the data\n",
    "X_train, X_test, y_train, y_test = train_test_split(tweets,labels, random_state=0)\n",
    "print (len(X_train),len(X_test),len(y_train),len(y_test))"
   ]
  },
  {
   "cell_type": "markdown",
   "metadata": {},
   "source": [
    "# Model Building"
   ]
  },
  {
   "cell_type": "markdown",
   "metadata": {},
   "source": [
    "I have implemented sequential models from the Keras API to achieve this task. Essentially, I'll start with a single layer LSTM network which is known by achieving good results in NLP tasks when the dataset is relatively small. The next one will be a Bidirectional LSTM model, a more complex one and this particular one is known to achieve great metrics when talking about text classification."
   ]
  },
  {
   "cell_type": "markdown",
   "metadata": {},
   "source": [
    "# Single LSTM layer model"
   ]
  },
  {
   "cell_type": "code",
   "execution_count": 99,
   "metadata": {},
   "outputs": [
    {
     "name": "stdout",
     "output_type": "stream",
     "text": [
      "WARNING:tensorflow:`period` argument is deprecated. Please use `save_freq` to specify the frequency in number of batches seen.\n",
      "Epoch 1/70\n",
      "31/31 [==============================] - 11s 141ms/step - loss: 1.4752 - accuracy: 0.7569 - val_loss: 0.7568 - val_accuracy: 0.8708\n",
      "\n",
      "Epoch 00001: val_accuracy improved from -inf to 0.87077, saving model to best_model1.hdf5\n",
      "Epoch 2/70\n",
      "31/31 [==============================] - 3s 104ms/step - loss: 0.6281 - accuracy: 0.8876 - val_loss: 0.5705 - val_accuracy: 0.8708\n",
      "\n",
      "Epoch 00002: val_accuracy did not improve from 0.87077\n",
      "Epoch 3/70\n",
      "31/31 [==============================] - 3s 101ms/step - loss: 0.4635 - accuracy: 0.9020 - val_loss: 0.5568 - val_accuracy: 0.8708\n",
      "\n",
      "Epoch 00003: val_accuracy did not improve from 0.87077\n",
      "Epoch 4/70\n",
      "31/31 [==============================] - 4s 113ms/step - loss: 0.4629 - accuracy: 0.8956 - val_loss: 0.5498 - val_accuracy: 0.8708\n",
      "\n",
      "Epoch 00004: val_accuracy did not improve from 0.87077\n",
      "Epoch 5/70\n",
      "31/31 [==============================] - 3s 112ms/step - loss: 0.4156 - accuracy: 0.9062 - val_loss: 0.5406 - val_accuracy: 0.8708\n",
      "\n",
      "Epoch 00005: val_accuracy did not improve from 0.87077\n",
      "Epoch 6/70\n",
      "31/31 [==============================] - 3s 105ms/step - loss: 0.4292 - accuracy: 0.8978 - val_loss: 0.5239 - val_accuracy: 0.8708\n",
      "\n",
      "Epoch 00006: val_accuracy did not improve from 0.87077\n",
      "Epoch 7/70\n",
      "31/31 [==============================] - 3s 106ms/step - loss: 0.3795 - accuracy: 0.9001 - val_loss: 0.5049 - val_accuracy: 0.8708\n",
      "\n",
      "Epoch 00007: val_accuracy did not improve from 0.87077\n",
      "Epoch 8/70\n",
      "31/31 [==============================] - 3s 105ms/step - loss: 0.3940 - accuracy: 0.8830 - val_loss: 0.5149 - val_accuracy: 0.8708\n",
      "\n",
      "Epoch 00008: val_accuracy did not improve from 0.87077\n",
      "Epoch 9/70\n",
      "31/31 [==============================] - 3s 103ms/step - loss: 0.3266 - accuracy: 0.8965 - val_loss: 0.5024 - val_accuracy: 0.8708\n",
      "\n",
      "Epoch 00009: val_accuracy did not improve from 0.87077\n",
      "Epoch 10/70\n",
      "31/31 [==============================] - 3s 107ms/step - loss: 0.2945 - accuracy: 0.9158 - val_loss: 0.4372 - val_accuracy: 0.8769\n",
      "\n",
      "Epoch 00010: val_accuracy improved from 0.87077 to 0.87692, saving model to best_model1.hdf5\n",
      "Epoch 11/70\n",
      "31/31 [==============================] - 3s 102ms/step - loss: 0.2566 - accuracy: 0.9182 - val_loss: 0.4685 - val_accuracy: 0.8769\n",
      "\n",
      "Epoch 00011: val_accuracy did not improve from 0.87692\n",
      "Epoch 12/70\n",
      "31/31 [==============================] - 3s 102ms/step - loss: 0.2696 - accuracy: 0.9052 - val_loss: 0.4084 - val_accuracy: 0.8800\n",
      "\n",
      "Epoch 00012: val_accuracy improved from 0.87692 to 0.88000, saving model to best_model1.hdf5\n",
      "Epoch 13/70\n",
      "31/31 [==============================] - 3s 105ms/step - loss: 0.2170 - accuracy: 0.9196 - val_loss: 0.4033 - val_accuracy: 0.8831\n",
      "\n",
      "Epoch 00013: val_accuracy improved from 0.88000 to 0.88308, saving model to best_model1.hdf5\n",
      "Epoch 14/70\n",
      "31/31 [==============================] - 3s 103ms/step - loss: 0.2248 - accuracy: 0.9227 - val_loss: 0.4326 - val_accuracy: 0.8862\n",
      "\n",
      "Epoch 00014: val_accuracy improved from 0.88308 to 0.88615, saving model to best_model1.hdf5\n",
      "Epoch 15/70\n",
      "31/31 [==============================] - 3s 102ms/step - loss: 0.1913 - accuracy: 0.9347 - val_loss: 0.4665 - val_accuracy: 0.8831\n",
      "\n",
      "Epoch 00015: val_accuracy did not improve from 0.88615\n",
      "Epoch 16/70\n",
      "31/31 [==============================] - 3s 105ms/step - loss: 0.1964 - accuracy: 0.9345 - val_loss: 0.3974 - val_accuracy: 0.8892\n",
      "\n",
      "Epoch 00016: val_accuracy improved from 0.88615 to 0.88923, saving model to best_model1.hdf5\n",
      "Epoch 17/70\n",
      "31/31 [==============================] - 3s 105ms/step - loss: 0.1836 - accuracy: 0.9378 - val_loss: 0.3958 - val_accuracy: 0.8954\n",
      "\n",
      "Epoch 00017: val_accuracy improved from 0.88923 to 0.89538, saving model to best_model1.hdf5\n",
      "Epoch 18/70\n",
      "31/31 [==============================] - 3s 104ms/step - loss: 0.1733 - accuracy: 0.9390 - val_loss: 0.3980 - val_accuracy: 0.8923\n",
      "\n",
      "Epoch 00018: val_accuracy did not improve from 0.89538\n",
      "Epoch 19/70\n",
      "31/31 [==============================] - 3s 104ms/step - loss: 0.2089 - accuracy: 0.9226 - val_loss: 0.4759 - val_accuracy: 0.8892\n",
      "\n",
      "Epoch 00019: val_accuracy did not improve from 0.89538\n",
      "Epoch 20/70\n",
      "31/31 [==============================] - 3s 103ms/step - loss: 0.1357 - accuracy: 0.9478 - val_loss: 0.4771 - val_accuracy: 0.8892\n",
      "\n",
      "Epoch 00020: val_accuracy did not improve from 0.89538\n",
      "Epoch 21/70\n",
      "31/31 [==============================] - 3s 104ms/step - loss: 0.1443 - accuracy: 0.9493 - val_loss: 0.4178 - val_accuracy: 0.8954\n",
      "\n",
      "Epoch 00021: val_accuracy did not improve from 0.89538\n",
      "Epoch 22/70\n",
      "31/31 [==============================] - 3s 104ms/step - loss: 0.1304 - accuracy: 0.9508 - val_loss: 0.4334 - val_accuracy: 0.8954\n",
      "\n",
      "Epoch 00022: val_accuracy did not improve from 0.89538\n",
      "Epoch 23/70\n",
      "31/31 [==============================] - 3s 111ms/step - loss: 0.1209 - accuracy: 0.9494 - val_loss: 0.4197 - val_accuracy: 0.8985\n",
      "\n",
      "Epoch 00023: val_accuracy improved from 0.89538 to 0.89846, saving model to best_model1.hdf5\n",
      "Epoch 24/70\n",
      "31/31 [==============================] - 3s 113ms/step - loss: 0.1146 - accuracy: 0.9568 - val_loss: 0.4230 - val_accuracy: 0.8831\n",
      "\n",
      "Epoch 00024: val_accuracy did not improve from 0.89846\n",
      "Epoch 25/70\n",
      "31/31 [==============================] - 3s 104ms/step - loss: 0.1144 - accuracy: 0.9558 - val_loss: 0.4398 - val_accuracy: 0.8892\n",
      "\n",
      "Epoch 00025: val_accuracy did not improve from 0.89846\n",
      "Epoch 26/70\n",
      "31/31 [==============================] - 3s 105ms/step - loss: 0.1165 - accuracy: 0.9593 - val_loss: 0.4913 - val_accuracy: 0.8831\n",
      "\n",
      "Epoch 00026: val_accuracy did not improve from 0.89846\n",
      "Epoch 27/70\n",
      "31/31 [==============================] - 3s 105ms/step - loss: 0.1085 - accuracy: 0.9612 - val_loss: 0.4555 - val_accuracy: 0.8892\n",
      "\n",
      "Epoch 00027: val_accuracy did not improve from 0.89846\n",
      "Epoch 28/70\n",
      "31/31 [==============================] - 3s 105ms/step - loss: 0.0977 - accuracy: 0.9702 - val_loss: 0.4584 - val_accuracy: 0.8769\n",
      "\n",
      "Epoch 00028: val_accuracy did not improve from 0.89846\n",
      "Epoch 29/70\n",
      "31/31 [==============================] - 3s 105ms/step - loss: 0.1185 - accuracy: 0.9576 - val_loss: 0.5017 - val_accuracy: 0.8862\n",
      "\n",
      "Epoch 00029: val_accuracy did not improve from 0.89846\n",
      "Epoch 30/70\n",
      "31/31 [==============================] - 3s 105ms/step - loss: 0.0951 - accuracy: 0.9717 - val_loss: 0.5126 - val_accuracy: 0.8800\n",
      "\n",
      "Epoch 00030: val_accuracy did not improve from 0.89846\n",
      "Epoch 31/70\n",
      "31/31 [==============================] - 3s 105ms/step - loss: 0.0993 - accuracy: 0.9637 - val_loss: 0.5186 - val_accuracy: 0.8769\n",
      "\n",
      "Epoch 00031: val_accuracy did not improve from 0.89846\n",
      "Epoch 32/70\n",
      "31/31 [==============================] - 3s 107ms/step - loss: 0.0922 - accuracy: 0.9763 - val_loss: 0.5123 - val_accuracy: 0.8708\n",
      "\n",
      "Epoch 00032: val_accuracy did not improve from 0.89846\n",
      "Epoch 33/70\n",
      "31/31 [==============================] - 3s 105ms/step - loss: 0.0767 - accuracy: 0.9732 - val_loss: 0.5872 - val_accuracy: 0.8738\n",
      "\n",
      "Epoch 00033: val_accuracy did not improve from 0.89846\n",
      "Epoch 34/70\n",
      "31/31 [==============================] - 3s 105ms/step - loss: 0.0794 - accuracy: 0.9764 - val_loss: 0.5352 - val_accuracy: 0.8585\n",
      "\n",
      "Epoch 00034: val_accuracy did not improve from 0.89846\n",
      "Epoch 35/70\n",
      "31/31 [==============================] - 3s 105ms/step - loss: 0.0674 - accuracy: 0.9817 - val_loss: 0.5689 - val_accuracy: 0.8738\n",
      "\n",
      "Epoch 00035: val_accuracy did not improve from 0.89846\n",
      "Epoch 36/70\n",
      "31/31 [==============================] - 3s 106ms/step - loss: 0.0616 - accuracy: 0.9876 - val_loss: 0.5721 - val_accuracy: 0.8800\n",
      "\n",
      "Epoch 00036: val_accuracy did not improve from 0.89846\n",
      "Epoch 37/70\n",
      "31/31 [==============================] - 3s 105ms/step - loss: 0.0621 - accuracy: 0.9806 - val_loss: 0.5929 - val_accuracy: 0.8708\n",
      "\n",
      "Epoch 00037: val_accuracy did not improve from 0.89846\n",
      "Epoch 38/70\n",
      "31/31 [==============================] - 3s 105ms/step - loss: 0.0660 - accuracy: 0.9803 - val_loss: 0.5815 - val_accuracy: 0.8554\n",
      "\n",
      "Epoch 00038: val_accuracy did not improve from 0.89846\n",
      "Epoch 39/70\n",
      "31/31 [==============================] - 3s 104ms/step - loss: 0.0553 - accuracy: 0.9846 - val_loss: 0.5933 - val_accuracy: 0.8615\n",
      "\n",
      "Epoch 00039: val_accuracy did not improve from 0.89846\n",
      "Epoch 40/70\n",
      "31/31 [==============================] - 3s 102ms/step - loss: 0.0442 - accuracy: 0.9888 - val_loss: 0.6174 - val_accuracy: 0.8492\n",
      "\n",
      "Epoch 00040: val_accuracy did not improve from 0.89846\n",
      "Epoch 41/70\n",
      "31/31 [==============================] - 3s 102ms/step - loss: 0.0367 - accuracy: 0.9920 - val_loss: 0.6410 - val_accuracy: 0.8738\n",
      "\n",
      "Epoch 00041: val_accuracy did not improve from 0.89846\n",
      "Epoch 42/70\n",
      "31/31 [==============================] - 3s 102ms/step - loss: 0.0458 - accuracy: 0.9833 - val_loss: 0.6158 - val_accuracy: 0.8585\n",
      "\n",
      "Epoch 00042: val_accuracy did not improve from 0.89846\n",
      "Epoch 43/70\n",
      "31/31 [==============================] - 3s 102ms/step - loss: 0.0429 - accuracy: 0.9929 - val_loss: 0.6212 - val_accuracy: 0.8585\n",
      "\n",
      "Epoch 00043: val_accuracy did not improve from 0.89846\n",
      "Epoch 44/70\n",
      "31/31 [==============================] - 3s 100ms/step - loss: 0.0319 - accuracy: 0.9889 - val_loss: 0.6432 - val_accuracy: 0.8615\n",
      "\n",
      "Epoch 00044: val_accuracy did not improve from 0.89846\n",
      "Epoch 45/70\n",
      "31/31 [==============================] - 3s 103ms/step - loss: 0.0238 - accuracy: 0.9945 - val_loss: 0.6532 - val_accuracy: 0.8492\n",
      "\n",
      "Epoch 00045: val_accuracy did not improve from 0.89846\n",
      "Epoch 46/70\n",
      "31/31 [==============================] - 3s 104ms/step - loss: 0.0449 - accuracy: 0.9872 - val_loss: 0.7607 - val_accuracy: 0.8092\n",
      "\n",
      "Epoch 00046: val_accuracy did not improve from 0.89846\n",
      "Epoch 47/70\n",
      "31/31 [==============================] - 3s 102ms/step - loss: 0.0339 - accuracy: 0.9901 - val_loss: 0.7115 - val_accuracy: 0.8492\n",
      "\n",
      "Epoch 00047: val_accuracy did not improve from 0.89846\n",
      "Epoch 48/70\n",
      "31/31 [==============================] - 3s 102ms/step - loss: 0.0250 - accuracy: 0.9959 - val_loss: 0.7102 - val_accuracy: 0.8554\n",
      "\n",
      "Epoch 00048: val_accuracy did not improve from 0.89846\n",
      "Epoch 49/70\n",
      "31/31 [==============================] - 3s 102ms/step - loss: 0.0234 - accuracy: 0.9924 - val_loss: 0.6792 - val_accuracy: 0.8492\n",
      "\n",
      "Epoch 00049: val_accuracy did not improve from 0.89846\n",
      "Epoch 50/70\n",
      "31/31 [==============================] - 3s 102ms/step - loss: 0.0284 - accuracy: 0.9911 - val_loss: 0.7281 - val_accuracy: 0.8585\n",
      "\n",
      "Epoch 00050: val_accuracy did not improve from 0.89846\n",
      "Epoch 51/70\n",
      "31/31 [==============================] - 3s 103ms/step - loss: 0.0326 - accuracy: 0.9884 - val_loss: 0.7367 - val_accuracy: 0.8523\n",
      "\n",
      "Epoch 00051: val_accuracy did not improve from 0.89846\n",
      "Epoch 52/70\n",
      "31/31 [==============================] - 3s 101ms/step - loss: 0.0211 - accuracy: 0.9936 - val_loss: 0.7292 - val_accuracy: 0.8462\n",
      "\n",
      "Epoch 00052: val_accuracy did not improve from 0.89846\n",
      "Epoch 53/70\n",
      "31/31 [==============================] - 3s 99ms/step - loss: 0.0240 - accuracy: 0.9931 - val_loss: 0.7285 - val_accuracy: 0.8554\n",
      "\n",
      "Epoch 00053: val_accuracy did not improve from 0.89846\n",
      "Epoch 54/70\n",
      "31/31 [==============================] - 3s 103ms/step - loss: 0.0244 - accuracy: 0.9913 - val_loss: 0.7596 - val_accuracy: 0.8554\n",
      "\n",
      "Epoch 00054: val_accuracy did not improve from 0.89846\n",
      "Epoch 55/70\n",
      "31/31 [==============================] - 3s 103ms/step - loss: 0.0215 - accuracy: 0.9914 - val_loss: 0.7615 - val_accuracy: 0.8462\n",
      "\n",
      "Epoch 00055: val_accuracy did not improve from 0.89846\n",
      "Epoch 56/70\n",
      "31/31 [==============================] - 3s 102ms/step - loss: 0.0161 - accuracy: 0.9948 - val_loss: 0.7898 - val_accuracy: 0.8369\n",
      "\n",
      "Epoch 00056: val_accuracy did not improve from 0.89846\n",
      "Epoch 57/70\n",
      "31/31 [==============================] - 3s 102ms/step - loss: 0.0233 - accuracy: 0.9888 - val_loss: 0.7558 - val_accuracy: 0.8554\n",
      "\n",
      "Epoch 00057: val_accuracy did not improve from 0.89846\n",
      "Epoch 58/70\n",
      "31/31 [==============================] - 3s 103ms/step - loss: 0.0182 - accuracy: 0.9938 - val_loss: 0.7931 - val_accuracy: 0.8554\n",
      "\n",
      "Epoch 00058: val_accuracy did not improve from 0.89846\n",
      "Epoch 59/70\n",
      "31/31 [==============================] - 3s 104ms/step - loss: 0.0158 - accuracy: 0.9947 - val_loss: 0.7882 - val_accuracy: 0.8523\n",
      "\n",
      "Epoch 00059: val_accuracy did not improve from 0.89846\n",
      "Epoch 60/70\n",
      "31/31 [==============================] - 3s 103ms/step - loss: 0.0162 - accuracy: 0.9945 - val_loss: 0.8224 - val_accuracy: 0.8462\n",
      "\n",
      "Epoch 00060: val_accuracy did not improve from 0.89846\n",
      "Epoch 61/70\n",
      "31/31 [==============================] - 4s 120ms/step - loss: 0.0090 - accuracy: 0.9967 - val_loss: 0.8636 - val_accuracy: 0.8400\n",
      "\n",
      "Epoch 00061: val_accuracy did not improve from 0.89846\n",
      "Epoch 62/70\n",
      "31/31 [==============================] - 4s 118ms/step - loss: 0.0179 - accuracy: 0.9934 - val_loss: 0.8259 - val_accuracy: 0.8677\n",
      "\n",
      "Epoch 00062: val_accuracy did not improve from 0.89846\n",
      "Epoch 63/70\n",
      "31/31 [==============================] - 4s 119ms/step - loss: 0.0230 - accuracy: 0.9914 - val_loss: 0.8285 - val_accuracy: 0.8462\n",
      "\n",
      "Epoch 00063: val_accuracy did not improve from 0.89846\n",
      "Epoch 64/70\n",
      "31/31 [==============================] - 4s 120ms/step - loss: 0.0168 - accuracy: 0.9912 - val_loss: 0.8456 - val_accuracy: 0.8492\n",
      "\n",
      "Epoch 00064: val_accuracy did not improve from 0.89846\n",
      "Epoch 65/70\n",
      "31/31 [==============================] - 4s 125ms/step - loss: 0.0126 - accuracy: 0.9975 - val_loss: 0.8664 - val_accuracy: 0.8462\n",
      "\n",
      "Epoch 00065: val_accuracy did not improve from 0.89846\n",
      "Epoch 66/70\n",
      "31/31 [==============================] - 4s 124ms/step - loss: 0.0196 - accuracy: 0.9936 - val_loss: 0.8387 - val_accuracy: 0.8462\n",
      "\n",
      "Epoch 00066: val_accuracy did not improve from 0.89846\n",
      "Epoch 67/70\n",
      "31/31 [==============================] - 4s 130ms/step - loss: 0.0141 - accuracy: 0.9951 - val_loss: 0.8843 - val_accuracy: 0.8369\n",
      "\n",
      "Epoch 00067: val_accuracy did not improve from 0.89846\n",
      "Epoch 68/70\n",
      "31/31 [==============================] - 4s 120ms/step - loss: 0.0169 - accuracy: 0.9973 - val_loss: 0.8815 - val_accuracy: 0.8431\n",
      "\n",
      "Epoch 00068: val_accuracy did not improve from 0.89846\n",
      "Epoch 69/70\n",
      "31/31 [==============================] - 4s 120ms/step - loss: 0.0100 - accuracy: 0.9986 - val_loss: 0.8242 - val_accuracy: 0.8585\n",
      "\n",
      "Epoch 00069: val_accuracy did not improve from 0.89846\n",
      "Epoch 70/70\n",
      "31/31 [==============================] - 4s 117ms/step - loss: 0.0145 - accuracy: 0.9959 - val_loss: 0.9234 - val_accuracy: 0.8369\n",
      "\n",
      "Epoch 00070: val_accuracy did not improve from 0.89846\n"
     ]
    }
   ],
   "source": [
    "model1 = Sequential()\n",
    "model1.add(layers.Embedding(max_words, 20))\n",
    "model1.add(layers.LSTM(15,dropout=0.5))\n",
    "model1.add(layers.Dense(5,activation='softmax'))\n",
    "\n",
    "\n",
    "model1.compile(optimizer='rmsprop',loss='categorical_crossentropy', metrics=['accuracy'])\n",
    "#Implementing model checkpoins to save the best metric and do not lose it on training.\n",
    "checkpoint1 = ModelCheckpoint(\"best_model1.hdf5\", monitor='val_accuracy', verbose=1,save_best_only=True, mode='auto', period=1,save_weights_only=False)\n",
    "history = model1.fit(X_train, y_train, epochs=70,validation_data=(X_test, y_test),callbacks=[checkpoint1])"
   ]
  },
  {
   "cell_type": "markdown",
   "metadata": {},
   "source": [
    "# Bidirectional LSTM model"
   ]
  },
  {
   "cell_type": "code",
   "execution_count": 100,
   "metadata": {},
   "outputs": [
    {
     "name": "stdout",
     "output_type": "stream",
     "text": [
      "WARNING:tensorflow:`period` argument is deprecated. Please use `save_freq` to specify the frequency in number of batches seen.\n",
      "Epoch 1/70\n",
      "31/31 [==============================] - 15s 192ms/step - loss: 1.1699 - accuracy: 0.7558 - val_loss: 0.5495 - val_accuracy: 0.8708\n",
      "\n",
      "Epoch 00001: val_accuracy improved from -inf to 0.87077, saving model to best_model2.hdf5\n",
      "Epoch 2/70\n",
      "31/31 [==============================] - 4s 125ms/step - loss: 0.4006 - accuracy: 0.9146 - val_loss: 0.5454 - val_accuracy: 0.8708\n",
      "\n",
      "Epoch 00002: val_accuracy did not improve from 0.87077\n",
      "Epoch 3/70\n",
      "31/31 [==============================] - 4s 124ms/step - loss: 0.4599 - accuracy: 0.8941 - val_loss: 0.5384 - val_accuracy: 0.8708\n",
      "\n",
      "Epoch 00003: val_accuracy did not improve from 0.87077\n",
      "Epoch 4/70\n",
      "31/31 [==============================] - 4s 125ms/step - loss: 0.3797 - accuracy: 0.9098 - val_loss: 0.5228 - val_accuracy: 0.8708\n",
      "\n",
      "Epoch 00004: val_accuracy did not improve from 0.87077\n",
      "Epoch 5/70\n",
      "31/31 [==============================] - 4s 126ms/step - loss: 0.4012 - accuracy: 0.8959 - val_loss: 0.4872 - val_accuracy: 0.8708\n",
      "\n",
      "Epoch 00005: val_accuracy did not improve from 0.87077\n",
      "Epoch 6/70\n",
      "31/31 [==============================] - 4s 124ms/step - loss: 0.3634 - accuracy: 0.8932 - val_loss: 0.4579 - val_accuracy: 0.8708\n",
      "\n",
      "Epoch 00006: val_accuracy did not improve from 0.87077\n",
      "Epoch 7/70\n",
      "31/31 [==============================] - 4s 125ms/step - loss: 0.3024 - accuracy: 0.8938 - val_loss: 0.4621 - val_accuracy: 0.8708\n",
      "\n",
      "Epoch 00007: val_accuracy did not improve from 0.87077\n",
      "Epoch 8/70\n",
      "31/31 [==============================] - 4s 124ms/step - loss: 0.2288 - accuracy: 0.9269 - val_loss: 0.4057 - val_accuracy: 0.8831\n",
      "\n",
      "Epoch 00008: val_accuracy improved from 0.87077 to 0.88308, saving model to best_model2.hdf5\n",
      "Epoch 9/70\n",
      "31/31 [==============================] - 4s 125ms/step - loss: 0.2772 - accuracy: 0.9094 - val_loss: 0.4834 - val_accuracy: 0.8831\n",
      "\n",
      "Epoch 00009: val_accuracy did not improve from 0.88308\n",
      "Epoch 10/70\n",
      "31/31 [==============================] - 4s 125ms/step - loss: 0.1935 - accuracy: 0.9432 - val_loss: 0.4125 - val_accuracy: 0.8892\n",
      "\n",
      "Epoch 00010: val_accuracy improved from 0.88308 to 0.88923, saving model to best_model2.hdf5\n",
      "Epoch 11/70\n",
      "31/31 [==============================] - 4s 124ms/step - loss: 0.1910 - accuracy: 0.9390 - val_loss: 0.3863 - val_accuracy: 0.8923\n",
      "\n",
      "Epoch 00011: val_accuracy improved from 0.88923 to 0.89231, saving model to best_model2.hdf5\n",
      "Epoch 12/70\n",
      "31/31 [==============================] - 4s 125ms/step - loss: 0.1716 - accuracy: 0.9397 - val_loss: 0.4214 - val_accuracy: 0.8923\n",
      "\n",
      "Epoch 00012: val_accuracy did not improve from 0.89231\n",
      "Epoch 13/70\n",
      "31/31 [==============================] - 4s 130ms/step - loss: 0.1572 - accuracy: 0.9446 - val_loss: 0.3947 - val_accuracy: 0.8862\n",
      "\n",
      "Epoch 00013: val_accuracy did not improve from 0.89231\n",
      "Epoch 14/70\n",
      "31/31 [==============================] - 4s 145ms/step - loss: 0.1742 - accuracy: 0.9347 - val_loss: 0.4102 - val_accuracy: 0.8923\n",
      "\n",
      "Epoch 00014: val_accuracy did not improve from 0.89231\n",
      "Epoch 15/70\n",
      "31/31 [==============================] - 4s 143ms/step - loss: 0.1445 - accuracy: 0.9499 - val_loss: 0.4360 - val_accuracy: 0.8923\n",
      "\n",
      "Epoch 00015: val_accuracy did not improve from 0.89231\n",
      "Epoch 16/70\n",
      "31/31 [==============================] - 5s 147ms/step - loss: 0.1348 - accuracy: 0.9465 - val_loss: 0.4258 - val_accuracy: 0.8862\n",
      "\n",
      "Epoch 00016: val_accuracy did not improve from 0.89231\n",
      "Epoch 17/70\n",
      "31/31 [==============================] - 4s 127ms/step - loss: 0.1466 - accuracy: 0.9562 - val_loss: 0.4737 - val_accuracy: 0.8923\n",
      "\n",
      "Epoch 00017: val_accuracy did not improve from 0.89231\n",
      "Epoch 18/70\n",
      "31/31 [==============================] - 4s 126ms/step - loss: 0.1444 - accuracy: 0.9439 - val_loss: 0.4189 - val_accuracy: 0.8738\n",
      "\n",
      "Epoch 00018: val_accuracy did not improve from 0.89231\n",
      "Epoch 19/70\n",
      "31/31 [==============================] - 4s 129ms/step - loss: 0.1496 - accuracy: 0.9416 - val_loss: 0.4870 - val_accuracy: 0.8831\n",
      "\n",
      "Epoch 00019: val_accuracy did not improve from 0.89231\n",
      "Epoch 20/70\n",
      "31/31 [==============================] - 4s 126ms/step - loss: 0.1067 - accuracy: 0.9608 - val_loss: 0.4403 - val_accuracy: 0.8769\n",
      "\n",
      "Epoch 00020: val_accuracy did not improve from 0.89231\n",
      "Epoch 21/70\n",
      "31/31 [==============================] - 4s 129ms/step - loss: 0.1087 - accuracy: 0.9646 - val_loss: 0.4624 - val_accuracy: 0.8800\n",
      "\n",
      "Epoch 00021: val_accuracy did not improve from 0.89231\n",
      "Epoch 22/70\n",
      "31/31 [==============================] - 4s 124ms/step - loss: 0.1034 - accuracy: 0.9693 - val_loss: 0.5512 - val_accuracy: 0.8769\n",
      "\n",
      "Epoch 00022: val_accuracy did not improve from 0.89231\n",
      "Epoch 23/70\n",
      "31/31 [==============================] - 4s 124ms/step - loss: 0.1080 - accuracy: 0.9696 - val_loss: 0.5105 - val_accuracy: 0.8708\n",
      "\n",
      "Epoch 00023: val_accuracy did not improve from 0.89231\n",
      "Epoch 24/70\n",
      "31/31 [==============================] - 4s 129ms/step - loss: 0.1047 - accuracy: 0.9659 - val_loss: 0.5439 - val_accuracy: 0.8769\n",
      "\n",
      "Epoch 00024: val_accuracy did not improve from 0.89231\n",
      "Epoch 25/70\n",
      "31/31 [==============================] - 5s 161ms/step - loss: 0.0795 - accuracy: 0.9705 - val_loss: 0.5240 - val_accuracy: 0.8738\n",
      "\n",
      "Epoch 00025: val_accuracy did not improve from 0.89231\n",
      "Epoch 26/70\n",
      "31/31 [==============================] - 5s 159ms/step - loss: 0.1043 - accuracy: 0.9677 - val_loss: 0.5481 - val_accuracy: 0.8738\n",
      "\n",
      "Epoch 00026: val_accuracy did not improve from 0.89231\n",
      "Epoch 27/70\n",
      "31/31 [==============================] - 6s 189ms/step - loss: 0.0852 - accuracy: 0.9704 - val_loss: 0.5148 - val_accuracy: 0.8615\n",
      "\n",
      "Epoch 00027: val_accuracy did not improve from 0.89231\n",
      "Epoch 28/70\n",
      "31/31 [==============================] - 5s 165ms/step - loss: 0.0826 - accuracy: 0.9758 - val_loss: 0.5340 - val_accuracy: 0.8585\n",
      "\n",
      "Epoch 00028: val_accuracy did not improve from 0.89231\n",
      "Epoch 29/70\n",
      "31/31 [==============================] - 5s 152ms/step - loss: 0.0904 - accuracy: 0.9769 - val_loss: 0.5520 - val_accuracy: 0.8492\n",
      "\n",
      "Epoch 00029: val_accuracy did not improve from 0.89231\n",
      "Epoch 30/70\n",
      "31/31 [==============================] - 4s 133ms/step - loss: 0.0666 - accuracy: 0.9818 - val_loss: 0.5838 - val_accuracy: 0.8554\n",
      "\n",
      "Epoch 00030: val_accuracy did not improve from 0.89231\n",
      "Epoch 31/70\n",
      "31/31 [==============================] - 4s 131ms/step - loss: 0.0782 - accuracy: 0.9745 - val_loss: 0.5854 - val_accuracy: 0.8492\n",
      "\n",
      "Epoch 00031: val_accuracy did not improve from 0.89231\n",
      "Epoch 32/70\n",
      "31/31 [==============================] - 4s 133ms/step - loss: 0.0908 - accuracy: 0.9677 - val_loss: 0.5866 - val_accuracy: 0.8462\n",
      "\n",
      "Epoch 00032: val_accuracy did not improve from 0.89231\n",
      "Epoch 33/70\n",
      "31/31 [==============================] - 4s 132ms/step - loss: 0.0628 - accuracy: 0.9828 - val_loss: 0.5931 - val_accuracy: 0.8492\n",
      "\n",
      "Epoch 00033: val_accuracy did not improve from 0.89231\n",
      "Epoch 34/70\n",
      "31/31 [==============================] - 4s 128ms/step - loss: 0.0711 - accuracy: 0.9799 - val_loss: 0.6200 - val_accuracy: 0.8615\n",
      "\n",
      "Epoch 00034: val_accuracy did not improve from 0.89231\n",
      "Epoch 35/70\n",
      "31/31 [==============================] - 4s 127ms/step - loss: 0.0481 - accuracy: 0.9873 - val_loss: 0.6425 - val_accuracy: 0.8123\n",
      "\n",
      "Epoch 00035: val_accuracy did not improve from 0.89231\n",
      "Epoch 36/70\n",
      "31/31 [==============================] - 4s 128ms/step - loss: 0.0568 - accuracy: 0.9838 - val_loss: 0.6314 - val_accuracy: 0.8492\n",
      "\n",
      "Epoch 00036: val_accuracy did not improve from 0.89231\n",
      "Epoch 37/70\n",
      "31/31 [==============================] - 4s 128ms/step - loss: 0.0461 - accuracy: 0.9829 - val_loss: 0.6417 - val_accuracy: 0.8338\n",
      "\n",
      "Epoch 00037: val_accuracy did not improve from 0.89231\n",
      "Epoch 38/70\n",
      "31/31 [==============================] - 4s 127ms/step - loss: 0.0403 - accuracy: 0.9889 - val_loss: 0.6689 - val_accuracy: 0.8369\n",
      "\n",
      "Epoch 00038: val_accuracy did not improve from 0.89231\n",
      "Epoch 39/70\n",
      "31/31 [==============================] - 4s 127ms/step - loss: 0.0465 - accuracy: 0.9864 - val_loss: 0.6851 - val_accuracy: 0.8338\n",
      "\n",
      "Epoch 00039: val_accuracy did not improve from 0.89231\n",
      "Epoch 40/70\n",
      "31/31 [==============================] - 4s 130ms/step - loss: 0.0410 - accuracy: 0.9855 - val_loss: 0.6986 - val_accuracy: 0.8308\n",
      "\n",
      "Epoch 00040: val_accuracy did not improve from 0.89231\n",
      "Epoch 41/70\n",
      "31/31 [==============================] - 4s 126ms/step - loss: 0.0387 - accuracy: 0.9926 - val_loss: 0.7032 - val_accuracy: 0.8215\n",
      "\n",
      "Epoch 00041: val_accuracy did not improve from 0.89231\n",
      "Epoch 42/70\n",
      "31/31 [==============================] - 4s 123ms/step - loss: 0.0422 - accuracy: 0.9905 - val_loss: 0.7301 - val_accuracy: 0.8308\n",
      "\n",
      "Epoch 00042: val_accuracy did not improve from 0.89231\n",
      "Epoch 43/70\n",
      "31/31 [==============================] - 4s 125ms/step - loss: 0.0338 - accuracy: 0.9863 - val_loss: 0.7143 - val_accuracy: 0.8462\n",
      "\n",
      "Epoch 00043: val_accuracy did not improve from 0.89231\n",
      "Epoch 44/70\n",
      "31/31 [==============================] - 4s 123ms/step - loss: 0.0373 - accuracy: 0.9885 - val_loss: 0.7406 - val_accuracy: 0.8431\n",
      "\n",
      "Epoch 00044: val_accuracy did not improve from 0.89231\n",
      "Epoch 45/70\n",
      "31/31 [==============================] - 4s 126ms/step - loss: 0.0273 - accuracy: 0.9926 - val_loss: 0.7628 - val_accuracy: 0.8554\n",
      "\n",
      "Epoch 00045: val_accuracy did not improve from 0.89231\n",
      "Epoch 46/70\n",
      "31/31 [==============================] - 4s 135ms/step - loss: 0.0355 - accuracy: 0.9829 - val_loss: 0.7810 - val_accuracy: 0.8369\n",
      "\n",
      "Epoch 00046: val_accuracy did not improve from 0.89231\n",
      "Epoch 47/70\n",
      "31/31 [==============================] - 4s 132ms/step - loss: 0.0254 - accuracy: 0.9928 - val_loss: 0.8127 - val_accuracy: 0.8338\n",
      "\n",
      "Epoch 00047: val_accuracy did not improve from 0.89231\n",
      "Epoch 48/70\n",
      "31/31 [==============================] - 4s 129ms/step - loss: 0.0176 - accuracy: 0.9938 - val_loss: 0.8180 - val_accuracy: 0.8431\n",
      "\n",
      "Epoch 00048: val_accuracy did not improve from 0.89231\n",
      "Epoch 49/70\n",
      "31/31 [==============================] - 4s 126ms/step - loss: 0.0202 - accuracy: 0.9945 - val_loss: 0.8184 - val_accuracy: 0.8215\n",
      "\n",
      "Epoch 00049: val_accuracy did not improve from 0.89231\n",
      "Epoch 50/70\n",
      "31/31 [==============================] - 4s 126ms/step - loss: 0.0213 - accuracy: 0.9907 - val_loss: 0.8626 - val_accuracy: 0.7908\n",
      "\n",
      "Epoch 00050: val_accuracy did not improve from 0.89231\n",
      "Epoch 51/70\n",
      "31/31 [==============================] - 4s 126ms/step - loss: 0.0271 - accuracy: 0.9903 - val_loss: 0.8333 - val_accuracy: 0.8185\n",
      "\n",
      "Epoch 00051: val_accuracy did not improve from 0.89231\n",
      "Epoch 52/70\n",
      "31/31 [==============================] - 4s 125ms/step - loss: 0.0134 - accuracy: 0.9950 - val_loss: 0.8425 - val_accuracy: 0.8154\n",
      "\n",
      "Epoch 00052: val_accuracy did not improve from 0.89231\n",
      "Epoch 53/70\n",
      "31/31 [==============================] - 4s 128ms/step - loss: 0.0155 - accuracy: 0.9935 - val_loss: 0.8619 - val_accuracy: 0.8092\n",
      "\n",
      "Epoch 00053: val_accuracy did not improve from 0.89231\n",
      "Epoch 54/70\n",
      "31/31 [==============================] - 4s 126ms/step - loss: 0.0168 - accuracy: 0.9935 - val_loss: 0.8909 - val_accuracy: 0.8154\n",
      "\n",
      "Epoch 00054: val_accuracy did not improve from 0.89231\n",
      "Epoch 55/70\n",
      "31/31 [==============================] - 4s 126ms/step - loss: 0.0207 - accuracy: 0.9895 - val_loss: 0.8752 - val_accuracy: 0.8277\n",
      "\n",
      "Epoch 00055: val_accuracy did not improve from 0.89231\n",
      "Epoch 56/70\n",
      "31/31 [==============================] - 4s 130ms/step - loss: 0.0201 - accuracy: 0.9949 - val_loss: 0.8821 - val_accuracy: 0.8154\n",
      "\n",
      "Epoch 00056: val_accuracy did not improve from 0.89231\n",
      "Epoch 57/70\n",
      "31/31 [==============================] - 4s 126ms/step - loss: 0.0155 - accuracy: 0.9936 - val_loss: 0.8999 - val_accuracy: 0.8154\n",
      "\n",
      "Epoch 00057: val_accuracy did not improve from 0.89231\n",
      "Epoch 58/70\n",
      "31/31 [==============================] - 4s 126ms/step - loss: 0.0161 - accuracy: 0.9950 - val_loss: 0.8967 - val_accuracy: 0.8369\n",
      "\n",
      "Epoch 00058: val_accuracy did not improve from 0.89231\n",
      "Epoch 59/70\n",
      "31/31 [==============================] - 4s 125ms/step - loss: 0.0142 - accuracy: 0.9953 - val_loss: 1.0232 - val_accuracy: 0.8062\n",
      "\n",
      "Epoch 00059: val_accuracy did not improve from 0.89231\n",
      "Epoch 60/70\n",
      "31/31 [==============================] - 4s 126ms/step - loss: 0.0092 - accuracy: 0.9978 - val_loss: 1.0019 - val_accuracy: 0.8031\n",
      "\n",
      "Epoch 00060: val_accuracy did not improve from 0.89231\n",
      "Epoch 61/70\n",
      "31/31 [==============================] - 4s 128ms/step - loss: 0.0210 - accuracy: 0.9886 - val_loss: 0.9772 - val_accuracy: 0.7938\n",
      "\n",
      "Epoch 00061: val_accuracy did not improve from 0.89231\n",
      "Epoch 62/70\n",
      "31/31 [==============================] - 4s 127ms/step - loss: 0.0230 - accuracy: 0.9941 - val_loss: 0.9364 - val_accuracy: 0.8246\n",
      "\n",
      "Epoch 00062: val_accuracy did not improve from 0.89231\n",
      "Epoch 63/70\n",
      "31/31 [==============================] - 4s 129ms/step - loss: 0.0106 - accuracy: 0.9958 - val_loss: 1.0494 - val_accuracy: 0.7969\n",
      "\n",
      "Epoch 00063: val_accuracy did not improve from 0.89231\n",
      "Epoch 64/70\n",
      "31/31 [==============================] - 4s 128ms/step - loss: 0.0164 - accuracy: 0.9930 - val_loss: 1.0985 - val_accuracy: 0.8062\n",
      "\n",
      "Epoch 00064: val_accuracy did not improve from 0.89231\n",
      "Epoch 65/70\n",
      "31/31 [==============================] - 4s 128ms/step - loss: 0.0202 - accuracy: 0.9932 - val_loss: 1.0118 - val_accuracy: 0.8092\n",
      "\n",
      "Epoch 00065: val_accuracy did not improve from 0.89231\n",
      "Epoch 66/70\n",
      "31/31 [==============================] - 4s 131ms/step - loss: 0.0102 - accuracy: 0.9981 - val_loss: 1.1287 - val_accuracy: 0.8031\n",
      "\n",
      "Epoch 00066: val_accuracy did not improve from 0.89231\n",
      "Epoch 67/70\n",
      "31/31 [==============================] - 4s 127ms/step - loss: 0.0128 - accuracy: 0.9978 - val_loss: 1.0759 - val_accuracy: 0.7969\n",
      "\n",
      "Epoch 00067: val_accuracy did not improve from 0.89231\n",
      "Epoch 68/70\n",
      "31/31 [==============================] - 4s 126ms/step - loss: 0.0200 - accuracy: 0.9942 - val_loss: 1.0773 - val_accuracy: 0.8031\n",
      "\n",
      "Epoch 00068: val_accuracy did not improve from 0.89231\n",
      "Epoch 69/70\n",
      "31/31 [==============================] - 4s 127ms/step - loss: 0.0101 - accuracy: 0.9980 - val_loss: 1.0743 - val_accuracy: 0.8031\n",
      "\n",
      "Epoch 00069: val_accuracy did not improve from 0.89231\n",
      "Epoch 70/70\n",
      "31/31 [==============================] - 4s 127ms/step - loss: 0.0039 - accuracy: 0.9993 - val_loss: 1.1600 - val_accuracy: 0.8031\n",
      "\n",
      "Epoch 00070: val_accuracy did not improve from 0.89231\n"
     ]
    }
   ],
   "source": [
    "model2 = Sequential()\n",
    "model2.add(layers.Embedding(max_words, 40, input_length=max_len))\n",
    "model2.add(layers.Bidirectional(layers.LSTM(20,dropout=0.6)))\n",
    "model2.add(layers.Dense(5,activation='softmax'))\n",
    "model2.compile(optimizer='rmsprop',loss='categorical_crossentropy', metrics=['accuracy'])\n",
    "#Implementing model checkpoins to save the best metric and do not lose it on training.\n",
    "checkpoint2 = ModelCheckpoint(\"best_model2.hdf5\", monitor='val_accuracy', verbose=1,save_best_only=True, mode='auto', period=1,save_weights_only=False)\n",
    "history = model2.fit(X_train, y_train, epochs=70,validation_data=(X_test, y_test),callbacks=[checkpoint2])"
   ]
  },
  {
   "cell_type": "markdown",
   "metadata": {},
   "source": [
    "# Best Model Validation"
   ]
  },
  {
   "cell_type": "code",
   "execution_count": 101,
   "metadata": {},
   "outputs": [],
   "source": [
    "#loading the best model obtained during training\n",
    "best_model = keras.models.load_model(\"best_model1.hdf5\")"
   ]
  },
  {
   "cell_type": "code",
   "execution_count": 102,
   "metadata": {},
   "outputs": [
    {
     "name": "stdout",
     "output_type": "stream",
     "text": [
      "11/11 - 1s - loss: 0.4197 - accuracy: 0.8985\n",
      "Model accuracy(%): 89.84615206718445\n"
     ]
    }
   ],
   "source": [
    "test_loss, test_acc = best_model.evaluate(X_test, y_test, verbose=2)\n",
    "print('Model accuracy(%):',test_acc*100)"
   ]
  },
  {
   "cell_type": "code",
   "execution_count": 103,
   "metadata": {},
   "outputs": [
    {
     "data": {
      "text/plain": [
       "array([[9.9879992e-01, 5.6788074e-05, 6.1267137e-04, 4.9092650e-04,\n",
       "        3.9599236e-05],\n",
       "       [8.6774904e-01, 2.0973973e-02, 6.0802851e-02, 4.2239949e-02,\n",
       "        8.2341116e-03],\n",
       "       [9.9859351e-01, 7.4456919e-05, 7.2056329e-04, 5.6185428e-04,\n",
       "        4.9665505e-05],\n",
       "       ...,\n",
       "       [9.8503464e-01, 1.6498782e-03, 8.7729720e-03, 3.8528165e-03,\n",
       "        6.8976410e-04],\n",
       "       [9.9832565e-01, 8.3564984e-05, 8.2850450e-04, 7.0508831e-04,\n",
       "        5.7115201e-05],\n",
       "       [9.8492658e-01, 9.8994246e-04, 8.0349194e-03, 5.4168040e-03,\n",
       "        6.3179160e-04]], dtype=float32)"
      ]
     },
     "execution_count": 103,
     "metadata": {},
     "output_type": "execute_result"
    }
   ],
   "source": [
    "predictions = best_model.predict(X_test)\n",
    "predictions"
   ]
  },
  {
   "cell_type": "markdown",
   "metadata": {},
   "source": [
    "# Confusion Matrix"
   ]
  },
  {
   "cell_type": "markdown",
   "metadata": {},
   "source": [
    "As the accuracy is not a good metric to measure how well a model is. That's the reason why we seek its confusion matrix, that way we have a better understanding of its classification and generalization ability. \n",
    "I have done the same thing here ;)"
   ]
  },
  {
   "cell_type": "code",
   "execution_count": 104,
   "metadata": {},
   "outputs": [
    {
     "name": "stdout",
     "output_type": "stream",
     "text": [
      "Confusion Matrix\n",
      "[[280   1   2   0   0]\n",
      " [  4  10   1   0   0]\n",
      " [  7   1   2   0   0]\n",
      " [ 14   1   0   0   0]\n",
      " [  1   1   0   0   0]]\n",
      "              precision    recall  f1-score   support\n",
      "\n",
      "           0       0.92      0.99      0.95       283\n",
      "           1       0.71      0.67      0.69        15\n",
      "           2       0.40      0.20      0.27        10\n",
      "           3       0.00      0.00      0.00        15\n",
      "           4       0.00      0.00      0.00         2\n",
      "\n",
      "    accuracy                           0.90       325\n",
      "   macro avg       0.41      0.37      0.38       325\n",
      "weighted avg       0.84      0.90      0.87       325\n",
      "\n",
      "Accuracy Score: 0.8984615384615384\n"
     ]
    }
   ],
   "source": [
    "y_test_arg=np.argmax(y_test,axis=1)\n",
    "Y_pred = np.argmax(best_model.predict(X_test),axis=1)\n",
    "print('Confusion Matrix')\n",
    "print(confusion_matrix(y_test_arg, Y_pred))\n",
    "print(classification_report(y_test_arg, Y_pred))\n",
    "print(\"Accuracy Score:\" ,accuracy_score(y_test_arg, Y_pred))"
   ]
  },
  {
   "cell_type": "code",
   "execution_count": 105,
   "metadata": {},
   "outputs": [],
   "source": [
    "matx=confusion_matrix(y_test_arg, Y_pred)"
   ]
  },
  {
   "cell_type": "code",
   "execution_count": 106,
   "metadata": {},
   "outputs": [
    {
     "data": {
      "text/plain": [
       "<AxesSubplot:>"
      ]
     },
     "execution_count": 106,
     "metadata": {},
     "output_type": "execute_result"
    },
    {
     "data": {
      "image/png": "[encoded data removed]",
      "text/plain": [
       "<Figure size 1080x1080 with 2 Axes>"
      ]
     },
     "metadata": {
      "needs_background": "light"
     },
     "output_type": "display_data"
    }
   ],
   "source": [
    "import seaborn as sns\n",
    "conf_matrix = pd.DataFrame(matx, index = ['happy','angry','sad','surprise','disgust'],columns = ['happy','angry','sad','surprise','disgust'])\n",
    "#Normalizing\n",
    "conf_matrix = conf_matrix.astype('float') / conf_matrix.sum(axis=1)[:, np.newaxis]\n",
    "plt.figure(figsize = (15,15))\n",
    "sns.heatmap(conf_matrix, annot=True, annot_kws={\"size\": 15})"
   ]
  },
  {
   "cell_type": "markdown",
   "metadata": {},
   "source": [
    "I know my model's score is very poor, but it hasn't gone through hyperparameter tuning, so it's alright. Let's see how it performs on some test text."
   ]
  },
  {
   "cell_type": "markdown",
   "metadata": {},
   "source": [
    "# Prediction "
   ]
  },
  {
   "cell_type": "code",
   "execution_count": 107,
   "metadata": {},
   "outputs": [],
   "source": [
    "sentiment = ['happy','angry','sad','surprise','disgust']"
   ]
  },
  {
   "cell_type": "code",
   "execution_count": 113,
   "metadata": {},
   "outputs": [
    {
     "data": {
      "text/plain": [
       "'happy'"
      ]
     },
     "execution_count": 113,
     "metadata": {},
     "output_type": "execute_result"
    }
   ],
   "source": [
    "sequence = tokenizer.texts_to_sequences([\"dorian gray with rainbow scarf lovewins from\"])\n",
    "test = pad_sequences(sequence, maxlen=max_len)\n",
    "sentiment[np.around(best_model.predict(test), decimals=0).argmax(axis=1)[0]]"
   ]
  }
 ],
 "metadata": {
  "kernelspec": {
   "display_name": "Python 3",
   "language": "python",
   "name": "python3"
  },
  "language_info": {
   "codemirror_mode": {
    "name": "ipython",
    "version": 3
   },
   "file_extension": ".py",
   "mimetype": "text/x-python",
   "name": "python",
   "nbconvert_exporter": "python",
   "pygments_lexer": "ipython3",
   "version": "3.8.5"
  }
 },
 "nbformat": 4,
 "nbformat_minor": 4
}
